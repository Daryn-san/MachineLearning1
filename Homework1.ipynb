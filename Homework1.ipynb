{
 "cells": [
  {
   "cell_type": "code",
   "execution_count": 1,
   "metadata": {},
   "outputs": [],
   "source": [
    "import re\n",
    "for line in open(\"sentences.txt\"):\n",
    " s = line\n",
    " y = s.lower()\n",
    " text = re.split('[^a-z]',y)\n",
    " lines = list(filter(bool, map(str.rstrip, text)))"
   ]
  },
  {
   "cell_type": "code",
   "execution_count": 2,
   "metadata": {},
   "outputs": [
    {
     "data": {
      "text/plain": [
       "{'key1': 'value1', 'key2': 'value2', 'key3': 'value3'}"
      ]
     },
     "execution_count": 2,
     "metadata": {},
     "output_type": "execute_result"
    }
   ],
   "source": [
    "key_list = ['key1', 'key2', 'key3']\n",
    "value_list = ['value1', 'value2', 'value3']\n",
    "my_dict = dict(zip(key_list, value_list))\n",
    "my_dict"
   ]
  },
  {
   "cell_type": "code",
   "execution_count": 3,
   "metadata": {},
   "outputs": [
    {
     "data": {
      "text/plain": [
       "['',\n",
       " 'mountain',\n",
       " 'apple',\n",
       " 'leopard',\n",
       " 'more',\n",
       " 'contains',\n",
       " 'than',\n",
       " 'update',\n",
       " 's',\n",
       " 'mac',\n",
       " 'such',\n",
       " 'count',\n",
       " 'os',\n",
       " 'major',\n",
       " 'by',\n",
       " 'a',\n",
       " 'fifth',\n",
       " 'of',\n",
       " 'the',\n",
       " 'to',\n",
       " 'features',\n",
       " 'x']"
      ]
     },
     "execution_count": 3,
     "metadata": {},
     "output_type": "execute_result"
    }
   ],
   "source": [
    "words = list(set(text))\n",
    "words"
   ]
  },
  {
   "cell_type": "code",
   "execution_count": 4,
   "metadata": {},
   "outputs": [
    {
     "data": {
      "text/plain": [
       "{0: '',\n",
       " 1: 'mountain',\n",
       " 2: 'apple',\n",
       " 3: 'leopard',\n",
       " 4: 'more',\n",
       " 5: 'contains',\n",
       " 6: 'than',\n",
       " 7: 'update',\n",
       " 8: 's',\n",
       " 9: 'mac',\n",
       " 10: 'such',\n",
       " 11: 'count',\n",
       " 12: 'os',\n",
       " 13: 'major',\n",
       " 14: 'by',\n",
       " 15: 'a',\n",
       " 16: 'fifth',\n",
       " 17: 'of',\n",
       " 18: 'the',\n",
       " 19: 'to',\n",
       " 20: 'features',\n",
       " 21: 'x'}"
      ]
     },
     "execution_count": 4,
     "metadata": {},
     "output_type": "execute_result"
    }
   ],
   "source": [
    "dict(zip(range(len(words)), words))"
   ]
  },
  {
   "cell_type": "code",
   "execution_count": 5,
   "metadata": {},
   "outputs": [],
   "source": [
    "from numpy import zeros, dot, savetxt\n",
    "from numpy.linalg import norm"
   ]
  },
  {
   "cell_type": "code",
   "execution_count": 6,
   "metadata": {},
   "outputs": [],
   "source": [
    "def cosine_distance(u, v):\n",
    "    return 1.0 - (dot(u, v) / (norm(u) * norm(v)))"
   ]
  },
  {
   "cell_type": "code",
   "execution_count": 7,
   "metadata": {},
   "outputs": [
    {
     "name": "stdout",
     "output_type": "stream",
     "text": [
      "The 1st closest sentence is a sentence #6 with a cosine distance of 0.73.\n",
      "The 2nd closest sentence is a sentence #4 with a cosine distance of 0.78.\n"
     ]
    }
   ],
   "source": [
    "if __name__ == \"__main__\":\n",
    "    with open(\"sentences.txt\") as f:\n",
    "        lines = sum(1 for _ in f)\n",
    "        f.seek(0)\n",
    "        import re\n",
    "        words = {}\n",
    "        lcount, wcount = 0, 0\n",
    "        for line in f:\n",
    "            p = re.compile(r\"[^a-z]+\")\n",
    "            tokens = p.split(line.lower())\n",
    "            tokens.pop()\n",
    "            for token in tokens:\n",
    "                if token not in words:\n",
    "                    words[token] = {\n",
    "                        \"index\": wcount,\n",
    "                        \"occurrences\": [0] * lines\n",
    "                    }\n",
    "                    wcount += 1\n",
    "                elif words[token][\"occurrences\"][lcount] != 0:\n",
    "                    continue\n",
    "                words[token][\"occurrences\"][lcount] = tokens.count(token)    \n",
    "            lcount += 1\n",
    "        arr = zeros((lines, len(words)))\n",
    "        for word in words:\n",
    "            i, j = 0, words[word][\"index\"]\n",
    "            for occ in words[word][\"occurrences\"]:\n",
    "                arr[i, j] = occ\n",
    "                i += 1\n",
    "        dist = [] \n",
    "        u = arr[0,] \n",
    "        for i in range(1, lines):\n",
    "            v = arr[i,]\n",
    "            dist.append({\"index\": i, \"distance\": cosine_distance(u, v)})    \n",
    "        \n",
    "        dist.sort(key=lambda x: x[\"distance\"])\n",
    "        print(\"The 1st closest sentence is a sentence #%d with a cosine distance of %.2f.\\n\"\\\n",
    "        \"The 2nd closest sentence is a sentence #%d with a cosine distance of %.2f.\" % (\n",
    "            dist[0][\"index\"],\n",
    "            dist[0][\"distance\"],\n",
    "            dist[1][\"index\"],\n",
    "            dist[1][\"distance\"]\n",
    "        ))"
   ]
  },
  {
   "cell_type": "code",
   "execution_count": null,
   "metadata": {},
   "outputs": [],
   "source": []
  },
  {
   "cell_type": "code",
   "execution_count": null,
   "metadata": {},
   "outputs": [],
   "source": []
  }
 ],
 "metadata": {
  "kernelspec": {
   "display_name": "Python 3",
   "language": "python",
   "name": "python3"
  },
  "language_info": {
   "codemirror_mode": {
    "name": "ipython",
    "version": 3
   },
   "file_extension": ".py",
   "mimetype": "text/x-python",
   "name": "python",
   "nbconvert_exporter": "python",
   "pygments_lexer": "ipython3",
   "version": "3.8.3"
  }
 },
 "nbformat": 4,
 "nbformat_minor": 4
}
